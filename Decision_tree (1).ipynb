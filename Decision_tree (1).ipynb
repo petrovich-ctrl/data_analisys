{
  "nbformat": 4,
  "nbformat_minor": 0,
  "metadata": {
    "colab": {
      "name": "Decision_tree.ipynb",
      "provenance": []
    },
    "kernelspec": {
      "name": "python3",
      "display_name": "Python 3"
    }
  },
  "cells": [
    {
      "cell_type": "markdown",
      "metadata": {
        "id": "BoVBIFsu5KH_"
      },
      "source": [
        "**Дерево рішень**"
      ]
    },
    {
      "cell_type": "code",
      "metadata": {
        "id": "bVMkbpgy5DFD"
      },
      "source": [
        "import numpy as np\n"
      ],
      "execution_count": null,
      "outputs": []
    },
    {
      "cell_type": "code",
      "metadata": {
        "id": "i1XLWO1x54zR"
      },
      "source": [
        "def accuracy_metric(actual, predicted):\n",
        "\tcorrect = 0\n",
        "\tfor i in range(len(actual)):\n",
        "\t\tif actual[i] == predicted[i]:\n",
        "\t\t\tcorrect += 1\n",
        "\treturn correct / float(len(actual)) * 100.0\n"
      ],
      "execution_count": null,
      "outputs": []
    },
    {
      "cell_type": "code",
      "metadata": {
        "id": "qDkCHUbx3G6M"
      },
      "source": [
        "def test_split(index, value, dataset):\n",
        "\tleft, right = [], []\n",
        "\tfor row in dataset:\n",
        "\t\tif row[index] < value:\n",
        "\t\t\tleft.append(row)\n",
        "\t\telse:\n",
        "\t\t\tright.append(row)\n",
        "\treturn left, right\n"
      ],
      "execution_count": null,
      "outputs": []
    },
    {
      "cell_type": "code",
      "metadata": {
        "id": "-rg143jx3RWi"
      },
      "source": [
        "def gini_index(groups, classes):\n",
        "\tn_instances = sum([len(group) for group in groups])\n",
        "\tgini = 0.0\n",
        "\tfor group in groups:\n",
        "\t\tsize = len(group)\n",
        "\t\tif size == 0:\n",
        "\t\t\tcontinue\n",
        "\t\tscore = 0\n",
        "\t\tfor values in classes:\n",
        "\t\t\tp = (1/size)*([row[-1] for row in group].count(values))\n",
        "\t\t\tscore += p * p\n",
        "\t\tgini += (1 - score) * (size / n_instances)\n",
        "\treturn gini\n"
      ],
      "execution_count": null,
      "outputs": []
    },
    {
      "cell_type": "code",
      "metadata": {
        "id": "N2bTlqHv6V5K"
      },
      "source": [
        "def get_split(dataset):\n",
        "\tclass_values = list(set(row[-1] for row in dataset))\n",
        "\tb_index, b_value, b_score, b_groups = np.inf, np.inf, np.inf, None\n",
        "\tfor index in range(len(dataset[0])-1):\n",
        "\t\tfor row in dataset:\n",
        "\t\t\tgroups = test_split(index, row[index], dataset)\n",
        "\t\t\tgini = gini_index(groups, class_values)\n",
        "\t\t\tif gini < b_score:\n",
        "\t\t\t\tb_index, b_value, b_score, b_groups = index, row[index], gini, groups\n",
        "\treturn {'index':b_index, 'value':b_value, 'groups':b_groups}\n"
      ],
      "execution_count": null,
      "outputs": []
    },
    {
      "cell_type": "code",
      "metadata": {
        "id": "9DhD3BYh6YpT"
      },
      "source": [
        "def to_terminal(group):\n",
        "\toutcomes = [row[-1] for row in group]\n",
        "\treturn max(set(outcomes), key=outcomes.count)\n"
      ],
      "execution_count": null,
      "outputs": []
    },
    {
      "cell_type": "code",
      "metadata": {
        "id": "4bonI3fy6q4v"
      },
      "source": [
        "def split(node, max_depth, min_size, depth):\n",
        "\tleft, right = node['groups']\n",
        "\tdel(node['groups'])\n",
        "\tif not left or not right:\n",
        "\t\tnode['left'] = node['right'] = to_terminal(left + right)\n",
        "\t\treturn\n",
        "\tif depth >= max_depth:\n",
        "\t\tnode['left'], node['right'] = to_terminal(left), to_terminal(right)\n",
        "\t\treturn\n",
        "\tif len(left) <= min_size:\n",
        "\t\tnode['left'] = to_terminal(left)\n",
        "\telse:\n",
        "\t\tnode['left'] = get_split(left)\n",
        "\t\tsplit(node['left'], max_depth, min_size, depth+1)\n",
        "\tif len(right) <= min_size:\n",
        "\t\tnode['right'] = to_terminal(right)\n",
        "\telse:\n",
        "\t\tnode['right'] = get_split(right)\n",
        "\t\tsplit(node['right'], max_depth, min_size, depth+1)\n"
      ],
      "execution_count": null,
      "outputs": []
    },
    {
      "cell_type": "code",
      "metadata": {
        "id": "mXA0IytO2OHK"
      },
      "source": [
        "def build_tree(train, max_depth, min_size):\n",
        "\troot = get_split(train)\n",
        "\tsplit(root, max_depth, min_size, 1)\n",
        "\treturn root\n"
      ],
      "execution_count": null,
      "outputs": []
    },
    {
      "cell_type": "code",
      "metadata": {
        "id": "jpOyPmvw2Vrz"
      },
      "source": [
        "def predict(node, row):\n",
        "\tif row[node['index']] < node['value']:\n",
        "\t\tif isinstance(node['left'], dict):\n",
        "\t\t\treturn predict(node['left'], row)\n",
        "\t\telse:\n",
        "\t\t\treturn node['left']\n",
        "\telse:\n",
        "\t\tif isinstance(node['right'], dict):\n",
        "\t\t\treturn predict(node['right'], row)\n",
        "\t\telse:\n",
        "\t\t\treturn node['right']\n"
      ],
      "execution_count": null,
      "outputs": []
    },
    {
      "cell_type": "markdown",
      "metadata": {
        "id": "AfHRv0hG2t4z"
      },
      "source": [
        "**Будуэмо дерево**"
      ]
    },
    {
      "cell_type": "code",
      "metadata": {
        "id": "TT3KZfwf3yFt"
      },
      "source": [
        "def decision_tree(train, test, max_depth, min_size):\n",
        "\ttree = build_tree(train, max_depth, min_size)\n",
        "\tpredictions = list()\n",
        "\tfor row in test:\n",
        "\t\tprediction = predict(tree, row)\n",
        "\t\tpredictions.append(prediction)\n",
        "\treturn(predictions)\n"
      ],
      "execution_count": null,
      "outputs": []
    },
    {
      "cell_type": "code",
      "metadata": {
        "id": "1l4L18742zAS"
      },
      "source": [
        "num_samples,bias = 100,1.1\n",
        "theta = np.linspace(0, 2*np.pi, num_samples)\n",
        "r1,r2 = np.random.rand((num_samples)),np.random.rand((num_samples))\n",
        "x1, y1 = (r1 * np.cos(theta)).reshape(-1, 1), (r1 * np.sin(theta)).reshape(-1, 1)\n",
        "x2, y2 = (r2 * np.cos(theta) + bias).reshape(-1, 1), (r2 * np.sin(theta) + bias).reshape(-1, 1)\n",
        "\n",
        "s1 = np.hstack([x1,y1, np.ones_like(x1)])\n",
        "s2 = np.hstack([x2,y2, np.zeros_like(x2)])\n",
        "data = np.vstack([s1,s2])\n",
        "data= np.hstack([np.ones([data.shape[0],1]),data])\n"
      ],
      "execution_count": null,
      "outputs": []
    },
    {
      "cell_type": "code",
      "metadata": {
        "id": "rC8RtMBS2_qd"
      },
      "source": [
        "np.random.shuffle(data)\n",
        "split_ind = int(np.floor((num_samples*7)/10))\n",
        "split_ind\n",
        "train,test = data[split_ind:],data[:split_ind]\n",
        "(x_train,y_train) = (train[:,:data.shape[1]-1],train[:,-1])\n",
        "(x_test,y_test) = (test[:,:data.shape[1]-1],test[:,-1])\n"
      ],
      "execution_count": null,
      "outputs": []
    },
    {
      "cell_type": "code",
      "metadata": {
        "colab": {
          "base_uri": "https://localhost:8080/"
        },
        "id": "3fS_aecL3CPz",
        "outputId": "fd6115d8-0e30-4a20-a469-61575bb0b724"
      },
      "source": [
        "max_depth, min_size = 5,10\n",
        "predictions = decision_tree(train, test, max_depth, min_size)\n",
        "accuracy_metric(predictions,y_test)\n"
      ],
      "execution_count": null,
      "outputs": [
        {
          "output_type": "execute_result",
          "data": {
            "text/plain": [
              "0.9142857142857143"
            ]
          },
          "metadata": {
            "tags": []
          },
          "execution_count": 15
        }
      ]
    }
  ]
}