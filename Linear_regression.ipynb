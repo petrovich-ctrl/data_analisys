{
  "nbformat": 4,
  "nbformat_minor": 0,
  "metadata": {
    "colab": {
      "name": "Linear_regression.ipynb",
      "provenance": [],
      "collapsed_sections": []
    },
    "kernelspec": {
      "name": "python3",
      "display_name": "Python 3"
    }
  },
  "cells": [
    {
      "cell_type": "markdown",
      "metadata": {
        "id": "cvbcgKAvjFjS"
      },
      "source": [
        "\n",
        "\n",
        "> **Лінійна регресія**\n",
        "\n",
        "\n",
        "\n",
        "\n"
      ]
    },
    {
      "cell_type": "code",
      "metadata": {
        "id": "o4uosW9BaFq3"
      },
      "source": [
        "import numpy as np\n"
      ],
      "execution_count": null,
      "outputs": []
    },
    {
      "cell_type": "code",
      "metadata": {
        "id": "LsAoEEpqj0P6"
      },
      "source": [
        "(n,sigma,mean,low,high) = (200, 3, 0, 0, 20)\n",
        "x = np.random.uniform(low = low, high = high, size = n).reshape(-1,1)\n",
        "x = np.hstack([np.ones_like(x),x])\n",
        "noise = np.random.normal(mean, sigma, x.shape[0])\n"
      ],
      "execution_count": null,
      "outputs": []
    },
    {
      "cell_type": "code",
      "metadata": {
        "id": "1Gnzp61Rj5ae"
      },
      "source": [
        "params = np.array([3,2])\n",
        "y = x.dot(params) + noise\n"
      ],
      "execution_count": null,
      "outputs": []
    },
    {
      "cell_type": "markdown",
      "metadata": {
        "id": "sKuyef2UlqUR"
      },
      "source": [
        "**Перемішуємо дані**"
      ]
    },
    {
      "cell_type": "code",
      "metadata": {
        "id": "w-0JwxBGkoNo"
      },
      "source": [
        "data = np.hstack([x,y.reshape(len(y),1)])\n",
        "np.random.shuffle(data)\n",
        "split_ind = int(np.floor((n*8)/10))\n",
        "train,test = data[:split_ind],data[split_ind:]\n",
        "(x_train,y_train) = (train[:,:x.shape[1]],train[:,-1])\n",
        "(x_test,y_test) = (test[:,:x.shape[1]],test[:,-1])\n"
      ],
      "execution_count": null,
      "outputs": []
    },
    {
      "cell_type": "code",
      "metadata": {
        "id": "3L1QU9ysmLUu"
      },
      "source": [
        "def h(x,theta):\n",
        "    return x.dot(theta)\n"
      ],
      "execution_count": null,
      "outputs": []
    },
    {
      "cell_type": "code",
      "metadata": {
        "id": "98aJgxnHxsZa"
      },
      "source": [
        "def mean_squared_error(predicted_value,true_value):\n",
        "    return (1/len(predicted_value))*np.sum((predicted_value - true_value)**2)\n"
      ],
      "execution_count": null,
      "outputs": []
    },
    {
      "cell_type": "code",
      "metadata": {
        "id": "WNZqwEUQxxed"
      },
      "source": [
        "def gradient_descent(rate,data,label,iter=1000):\n",
        "    theta = np.zeros(data.shape[1],)\n",
        "    m = data.shape[0]\n",
        "    for _ in range(iter):\n",
        "        current_pred = h(data,theta)\n",
        "        theta -= (rate/m)*(data.T.dot((current_pred - label)))\n",
        "    return theta\n"
      ],
      "execution_count": null,
      "outputs": []
    },
    {
      "cell_type": "code",
      "metadata": {
        "id": "FC8Y33pgx8fd",
        "outputId": "5c1367ff-a5a9-42b5-a7a0-83f55dba418a",
        "colab": {
          "base_uri": "https://localhost:8080/"
        }
      },
      "source": [
        "alpha = 0.01\n",
        "iter = 2000\n",
        "theta = gradient_descent(alpha,x_train,y_train,iter)\n",
        "print(theta)\n"
      ],
      "execution_count": null,
      "outputs": [
        {
          "output_type": "stream",
          "text": [
            "[3.42569398 1.96175325]\n"
          ],
          "name": "stdout"
        }
      ]
    },
    {
      "cell_type": "markdown",
      "metadata": {
        "id": "TibC2QoJylc2"
      },
      "source": [
        ""
      ]
    },
    {
      "cell_type": "code",
      "metadata": {
        "id": "jjL7EEfmx-kV",
        "outputId": "6a33205c-9e87-4683-9c0e-a0a3c7749432",
        "colab": {
          "base_uri": "https://localhost:8080/"
        }
      },
      "source": [
        "pred = h(x_train,theta)\n",
        "print(mean_squared_error(pred,y_train))\n"
      ],
      "execution_count": null,
      "outputs": [
        {
          "output_type": "stream",
          "text": [
            "8.15956390713939\n"
          ],
          "name": "stdout"
        }
      ]
    },
    {
      "cell_type": "code",
      "metadata": {
        "id": "dN4PJAi60GMi",
        "outputId": "6a841e68-1f90-4a14-f3d4-88616fc995f8",
        "colab": {
          "base_uri": "https://localhost:8080/"
        }
      },
      "source": [
        "pred_test = h(x_test,theta)\n",
        "print(mean_squared_error(pred_test,y_test))\n"
      ],
      "execution_count": null,
      "outputs": [
        {
          "output_type": "stream",
          "text": [
            "14.332481026776486\n"
          ],
          "name": "stdout"
        }
      ]
    }
  ]
}
